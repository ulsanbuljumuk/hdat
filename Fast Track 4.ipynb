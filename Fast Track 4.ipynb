{
 "cells": [
  {
   "cell_type": "markdown",
   "id": "a5bcd58a-b12d-4750-9826-af1ebd7b2e85",
   "metadata": {},
   "source": [
    "# 자전거 렌탈 데이터 분석"
   ]
  },
  {
   "cell_type": "code",
   "execution_count": 1,
   "id": "8d59acc6-08d8-4624-87b9-4db6b1565591",
   "metadata": {},
   "outputs": [],
   "source": [
    "import pandas as pd\n",
    "import numpy as np\n",
    "import matplotlib.pyplot as plt\n",
    "import seaborn as sns"
   ]
  },
  {
   "cell_type": "markdown",
   "id": "53bb4822-df3a-49aa-8879-f58dd6fa39b4",
   "metadata": {},
   "source": [
    "## 데이터 읽어오기"
   ]
  },
  {
   "cell_type": "code",
   "execution_count": 2,
   "id": "39aa71e3-26cd-46f9-8e25-e1eed3ad81a6",
   "metadata": {},
   "outputs": [],
   "source": [
    "train_df = pd.read_csv(r'C:\\Users\\USER\\OneDrive\\Desktop\\2025 수업\\DA양성과정 ML\\train.csv')\n",
    "test_df = pd.read_csv(r'C:\\Users\\USER\\OneDrive\\Desktop\\2025 수업\\DA양성과정 ML\\test.csv')"
   ]
  },
  {
   "cell_type": "markdown",
   "id": "227c7b72-02ad-4e63-8e70-e621489e8bda",
   "metadata": {},
   "source": [
    "## 데이터 살펴보기\n",
    "- 데이터가 아닌 것 : 'datetime'\n",
    "- 숫자 데이터 : 'temp',, 'humidity', 'windspeed'\n",
    "- 카테고리 데이터  'season', 'holiday', 'workingday', 'weather':"
   ]
  },
  {
   "cell_type": "code",
   "execution_count": 3,
   "id": "47c47cdd-0d1d-4502-9ce7-0b3d3aca214f",
   "metadata": {},
   "outputs": [
    {
     "data": {
      "text/plain": [
       "Index(['datetime', 'season', 'holiday', 'workingday', 'weather', 'temp',\n",
       "       'atemp', 'humidity', 'windspeed', 'casual', 'registered', 'count'],\n",
       "      dtype='object')"
      ]
     },
     "execution_count": 3,
     "metadata": {},
     "output_type": "execute_result"
    }
   ],
   "source": [
    "train_df.columns"
   ]
  },
  {
   "cell_type": "markdown",
   "id": "0cd67c2a-1cdb-435c-8da2-9f5599aa33c4",
   "metadata": {},
   "source": [
    "## 결측 데이터 체크"
   ]
  },
  {
   "cell_type": "code",
   "execution_count": 4,
   "id": "90462a47-5f63-40b6-9940-c40910e55732",
   "metadata": {},
   "outputs": [
    {
     "data": {
      "text/plain": [
       "datetime      0\n",
       "season        0\n",
       "holiday       0\n",
       "workingday    0\n",
       "weather       0\n",
       "temp          0\n",
       "atemp         0\n",
       "humidity      0\n",
       "windspeed     0\n",
       "casual        0\n",
       "registered    0\n",
       "count         0\n",
       "dtype: int64"
      ]
     },
     "execution_count": 4,
     "metadata": {},
     "output_type": "execute_result"
    }
   ],
   "source": [
    "train_df.isna().sum()"
   ]
  },
  {
   "cell_type": "markdown",
   "id": "554f8615-0c2f-4cb9-8500-686f9eeef1a7",
   "metadata": {},
   "source": [
    "## Feature Engineering\n",
    "- 데이터가 아닌 것에서 데이터 추출\n",
    "- 스케일링\n",
    "- 인코딩"
   ]
  },
  {
   "cell_type": "code",
   "execution_count": 9,
   "id": "991f7931-c1c7-486a-b05b-7c19fa0de786",
   "metadata": {},
   "outputs": [],
   "source": [
    "# 데이터가 아닌 것에서 데이터 추출\n",
    "train_df['year'] = pd.to_datetime( train_df['datetime'] ).dt.year\n",
    "train_df['month'] = pd.to_datetime( train_df['datetime'] ).dt.month\n",
    "train_df['hour'] = pd.to_datetime( train_df['datetime'] ).dt.hour\n",
    "train_df['sin_hour'] = np.sin( (train_df['hour']/24) * 2 * np.pi )\n",
    "train_df['cos_hour'] = np.cos( (train_df['hour']/24) * 2 * np.pi )\n",
    "train_df['sin_month'] = np.sin( (train_df['month']/12) * 2 * np.pi )\n",
    "train_df['cos_month'] = np.cos( (train_df['month']/12) * 2 * np.pi )\n",
    "\n",
    "test_df['year'] = pd.to_datetime( test_df['datetime'] ).dt.year\n",
    "test_df['month'] = pd.to_datetime( test_df['datetime'] ).dt.month\n",
    "test_df['hour'] = pd.to_datetime( test_df['datetime'] ).dt.hour\n",
    "test_df['sin_hour'] = np.sin( (test_df['hour']/24) * 2 * np.pi )\n",
    "test_df['cos_hour'] = np.cos( (test_df['hour']/24) * 2 * np.pi )\n",
    "test_df['sin_month'] = np.sin( (test_df['month']/12) * 2 * np.pi )\n",
    "test_df['cos_month'] = np.cos( (test_df['month']/12) * 2 * np.pi )"
   ]
  },
  {
   "cell_type": "code",
   "execution_count": 18,
   "id": "bf9e1685-d0fe-4eb4-88c9-e38e23453b6a",
   "metadata": {},
   "outputs": [],
   "source": [
    "# 스케일링\n",
    "from sklearn.preprocessing import StandardScaler\n",
    "num_features = ['temp', 'humidity', 'windspeed', \n",
    "                'sin_hour', 'cos_hour', 'sin_month', 'cos_month']\n",
    "\n",
    "sc = StandardScaler()\n",
    "sc.fit( train_df[num_features]  )\n",
    "X = pd.DataFrame( sc.transform( train_df[num_features] ), columns=num_features )\n",
    "test_X = pd.DataFrame( sc.transform( test_df[num_features] ), columns=num_features )"
   ]
  },
  {
   "cell_type": "code",
   "execution_count": 24,
   "id": "0f5aa68b-c24a-4c71-bc30-61e4f6bb1591",
   "metadata": {},
   "outputs": [],
   "source": [
    "# 인코딩\n",
    "from sklearn.preprocessing import OneHotEncoder\n",
    "\n",
    "cate_features = ['season', 'holiday', 'workingday', 'weather','year']\n",
    "one_hot = OneHotEncoder(sparse_output=False, drop='first')\n",
    "one_hot.fit(train_df[cate_features])\n",
    "X[one_hot.get_feature_names_out()] = one_hot.transform( train_df[cate_features] )\n",
    "test_X[one_hot.get_feature_names_out()] = one_hot.transform( test_df[cate_features] )"
   ]
  },
  {
   "cell_type": "markdown",
   "id": "bf06963f-35b1-4050-abff-f9e1a7e25396",
   "metadata": {},
   "source": [
    "## 훈련용 데이터와 검증용 데이터로 나누기"
   ]
  },
  {
   "cell_type": "code",
   "execution_count": 30,
   "id": "e13c5542-228a-48c1-89ca-01c9a28db22e",
   "metadata": {},
   "outputs": [],
   "source": [
    "from sklearn.model_selection import train_test_split, GridSearchCV\n",
    "\n",
    "y = train_df['count']\n",
    "y2 = train_df[['casual', 'registered',]]"
   ]
  },
  {
   "cell_type": "code",
   "execution_count": 31,
   "id": "61e58d82-36d4-499a-9598-f22c8ef4ace3",
   "metadata": {},
   "outputs": [],
   "source": [
    "train_x, valid_x, train_y, valid_y = train_test_split(X, y,\n",
    "                                                      test_size=0.3, \n",
    "                                                      random_state=18)"
   ]
  },
  {
   "cell_type": "markdown",
   "id": "9cc4fcc1-7ca1-4297-95e6-87d29ed81bed",
   "metadata": {},
   "source": [
    "## 하이퍼 파라미터 찾고 랜덤 포레스트 사용"
   ]
  },
  {
   "cell_type": "code",
   "execution_count": 32,
   "id": "536cc4de-0fc3-4daa-8454-3eb45f7d4da6",
   "metadata": {},
   "outputs": [],
   "source": [
    "from sklearn.ensemble import RandomForestRegressor\n",
    "from sklearn.metrics import get_scorer_names"
   ]
  },
  {
   "cell_type": "code",
   "execution_count": null,
   "id": "218dcf95-482e-406b-a9d8-8c80b025cddc",
   "metadata": {},
   "outputs": [],
   "source": [
    "params = {'max_depth' : [5, 10, 15, 20],\n",
    "            'min_samples_leaf':[1, 5, 10, 15, 20]}\n",
    "\n",
    "grid_rf1 = GridSearchCV( RandomForestRegressor(random_state=18), params, cv=5,\n",
    "                         scoring='neg_mean_squared_log_error')\n",
    "grid_rf1.fit(train_x, train_y)"
   ]
  },
  {
   "cell_type": "code",
   "execution_count": 39,
   "id": "84272cc0-70fa-4325-bd90-055d7a929686",
   "metadata": {},
   "outputs": [
    {
     "data": {
      "text/plain": [
       "0.3662318932008796"
      ]
     },
     "execution_count": 39,
     "metadata": {},
     "output_type": "execute_result"
    }
   ],
   "source": [
    "(grid_rf1.score( valid_x, valid_y ) * -1 )** 0.5"
   ]
  },
  {
   "cell_type": "code",
   "execution_count": 44,
   "id": "6b2c3655-9ae1-4843-98e2-41dc00c5547c",
   "metadata": {},
   "outputs": [],
   "source": [
    "result1 = test_df[ ['datetime'] ].copy()\n",
    "result1['count'] = grid_rf1.predict( test_X )"
   ]
  },
  {
   "cell_type": "markdown",
   "id": "4338b48c-ac2b-4a83-b1db-7d65c0990d4d",
   "metadata": {},
   "source": [
    "## target 데이터가 여러개 일때"
   ]
  },
  {
   "cell_type": "code",
   "execution_count": 46,
   "id": "de580555-1db8-4077-835c-44390034afea",
   "metadata": {},
   "outputs": [],
   "source": [
    "from sklearn.multioutput import MultiOutputRegressor"
   ]
  },
  {
   "cell_type": "code",
   "execution_count": 48,
   "id": "3aa13628-32d1-489c-af1b-39b6bbf257a4",
   "metadata": {},
   "outputs": [],
   "source": [
    "multi_rf = MultiOutputRegressor(RandomForestRegressor( max_depth=15, \n",
    "                                           min_samples_leaf=1,\n",
    "                                           random_state=18))"
   ]
  },
  {
   "cell_type": "code",
   "execution_count": 49,
   "id": "86282ef0-b8c2-4146-a2b8-5bc5f3ac2ab7",
   "metadata": {},
   "outputs": [],
   "source": [
    "train_x, valid_x, train_y, valid_y = train_test_split( X, y2,\n",
    "                                                      test_size=0.3,\n",
    "                                                      random_state=18 )"
   ]
  },
  {
   "cell_type": "code",
   "execution_count": 51,
   "id": "79663912-6e84-4515-bc5d-65d5a048261c",
   "metadata": {},
   "outputs": [
    {
     "data": {
      "text/html": [
       "<style>#sk-container-id-7 {color: black;background-color: white;}#sk-container-id-7 pre{padding: 0;}#sk-container-id-7 div.sk-toggleable {background-color: white;}#sk-container-id-7 label.sk-toggleable__label {cursor: pointer;display: block;width: 100%;margin-bottom: 0;padding: 0.3em;box-sizing: border-box;text-align: center;}#sk-container-id-7 label.sk-toggleable__label-arrow:before {content: \"▸\";float: left;margin-right: 0.25em;color: #696969;}#sk-container-id-7 label.sk-toggleable__label-arrow:hover:before {color: black;}#sk-container-id-7 div.sk-estimator:hover label.sk-toggleable__label-arrow:before {color: black;}#sk-container-id-7 div.sk-toggleable__content {max-height: 0;max-width: 0;overflow: hidden;text-align: left;background-color: #f0f8ff;}#sk-container-id-7 div.sk-toggleable__content pre {margin: 0.2em;color: black;border-radius: 0.25em;background-color: #f0f8ff;}#sk-container-id-7 input.sk-toggleable__control:checked~div.sk-toggleable__content {max-height: 200px;max-width: 100%;overflow: auto;}#sk-container-id-7 input.sk-toggleable__control:checked~label.sk-toggleable__label-arrow:before {content: \"▾\";}#sk-container-id-7 div.sk-estimator input.sk-toggleable__control:checked~label.sk-toggleable__label {background-color: #d4ebff;}#sk-container-id-7 div.sk-label input.sk-toggleable__control:checked~label.sk-toggleable__label {background-color: #d4ebff;}#sk-container-id-7 input.sk-hidden--visually {border: 0;clip: rect(1px 1px 1px 1px);clip: rect(1px, 1px, 1px, 1px);height: 1px;margin: -1px;overflow: hidden;padding: 0;position: absolute;width: 1px;}#sk-container-id-7 div.sk-estimator {font-family: monospace;background-color: #f0f8ff;border: 1px dotted black;border-radius: 0.25em;box-sizing: border-box;margin-bottom: 0.5em;}#sk-container-id-7 div.sk-estimator:hover {background-color: #d4ebff;}#sk-container-id-7 div.sk-parallel-item::after {content: \"\";width: 100%;border-bottom: 1px solid gray;flex-grow: 1;}#sk-container-id-7 div.sk-label:hover label.sk-toggleable__label {background-color: #d4ebff;}#sk-container-id-7 div.sk-serial::before {content: \"\";position: absolute;border-left: 1px solid gray;box-sizing: border-box;top: 0;bottom: 0;left: 50%;z-index: 0;}#sk-container-id-7 div.sk-serial {display: flex;flex-direction: column;align-items: center;background-color: white;padding-right: 0.2em;padding-left: 0.2em;position: relative;}#sk-container-id-7 div.sk-item {position: relative;z-index: 1;}#sk-container-id-7 div.sk-parallel {display: flex;align-items: stretch;justify-content: center;background-color: white;position: relative;}#sk-container-id-7 div.sk-item::before, #sk-container-id-7 div.sk-parallel-item::before {content: \"\";position: absolute;border-left: 1px solid gray;box-sizing: border-box;top: 0;bottom: 0;left: 50%;z-index: -1;}#sk-container-id-7 div.sk-parallel-item {display: flex;flex-direction: column;z-index: 1;position: relative;background-color: white;}#sk-container-id-7 div.sk-parallel-item:first-child::after {align-self: flex-end;width: 50%;}#sk-container-id-7 div.sk-parallel-item:last-child::after {align-self: flex-start;width: 50%;}#sk-container-id-7 div.sk-parallel-item:only-child::after {width: 0;}#sk-container-id-7 div.sk-dashed-wrapped {border: 1px dashed gray;margin: 0 0.4em 0.5em 0.4em;box-sizing: border-box;padding-bottom: 0.4em;background-color: white;}#sk-container-id-7 div.sk-label label {font-family: monospace;font-weight: bold;display: inline-block;line-height: 1.2em;}#sk-container-id-7 div.sk-label-container {text-align: center;}#sk-container-id-7 div.sk-container {/* jupyter's `normalize.less` sets `[hidden] { display: none; }` but bootstrap.min.css set `[hidden] { display: none !important; }` so we also need the `!important` here to be able to override the default hidden behavior on the sphinx rendered scikit-learn.org. See: https://github.com/scikit-learn/scikit-learn/issues/21755 */display: inline-block !important;position: relative;}#sk-container-id-7 div.sk-text-repr-fallback {display: none;}</style><div id=\"sk-container-id-7\" class=\"sk-top-container\"><div class=\"sk-text-repr-fallback\"><pre>MultiOutputRegressor(estimator=RandomForestRegressor(max_depth=15,\n",
       "                                                     random_state=18))</pre><b>In a Jupyter environment, please rerun this cell to show the HTML representation or trust the notebook. <br />On GitHub, the HTML representation is unable to render, please try loading this page with nbviewer.org.</b></div><div class=\"sk-container\" hidden><div class=\"sk-item sk-dashed-wrapped\"><div class=\"sk-label-container\"><div class=\"sk-label sk-toggleable\"><input class=\"sk-toggleable__control sk-hidden--visually\" id=\"sk-estimator-id-13\" type=\"checkbox\" ><label for=\"sk-estimator-id-13\" class=\"sk-toggleable__label sk-toggleable__label-arrow\">MultiOutputRegressor</label><div class=\"sk-toggleable__content\"><pre>MultiOutputRegressor(estimator=RandomForestRegressor(max_depth=15,\n",
       "                                                     random_state=18))</pre></div></div></div><div class=\"sk-parallel\"><div class=\"sk-parallel-item\"><div class=\"sk-item\"><div class=\"sk-label-container\"><div class=\"sk-label sk-toggleable\"><input class=\"sk-toggleable__control sk-hidden--visually\" id=\"sk-estimator-id-14\" type=\"checkbox\" ><label for=\"sk-estimator-id-14\" class=\"sk-toggleable__label sk-toggleable__label-arrow\">estimator: RandomForestRegressor</label><div class=\"sk-toggleable__content\"><pre>RandomForestRegressor(max_depth=15, random_state=18)</pre></div></div></div><div class=\"sk-serial\"><div class=\"sk-item\"><div class=\"sk-estimator sk-toggleable\"><input class=\"sk-toggleable__control sk-hidden--visually\" id=\"sk-estimator-id-15\" type=\"checkbox\" ><label for=\"sk-estimator-id-15\" class=\"sk-toggleable__label sk-toggleable__label-arrow\">RandomForestRegressor</label><div class=\"sk-toggleable__content\"><pre>RandomForestRegressor(max_depth=15, random_state=18)</pre></div></div></div></div></div></div></div></div></div></div>"
      ],
      "text/plain": [
       "MultiOutputRegressor(estimator=RandomForestRegressor(max_depth=15,\n",
       "                                                     random_state=18))"
      ]
     },
     "execution_count": 51,
     "metadata": {},
     "output_type": "execute_result"
    }
   ],
   "source": [
    "multi_rf.fit(train_x, train_y)"
   ]
  },
  {
   "cell_type": "code",
   "execution_count": 61,
   "id": "0612a26e-d744-48b5-9364-812d0f76b0f3",
   "metadata": {},
   "outputs": [],
   "source": [
    "from sklearn.metrics import mean_squared_log_error"
   ]
  },
  {
   "cell_type": "code",
   "execution_count": 63,
   "id": "aa8b5bd6-c7dc-4d28-a4e2-d86f2bc09f01",
   "metadata": {},
   "outputs": [
    {
     "data": {
      "text/plain": [
       "0.36207748008039464"
      ]
     },
     "execution_count": 63,
     "metadata": {},
     "output_type": "execute_result"
    }
   ],
   "source": [
    "# count를 얼마나 잘 예측하나\n",
    "mean_squared_log_error( valid_y.sum(axis=1),  multi_rf.predict(valid_x).sum(axis=1) ) ** 0.5"
   ]
  },
  {
   "cell_type": "code",
   "execution_count": 65,
   "id": "f4f61953-8ed9-4e96-a27a-9cc26dc93f84",
   "metadata": {},
   "outputs": [
    {
     "data": {
      "text/plain": [
       "array([296.6736463 ,  72.50109921,  29.27029292, ..., 302.43421248,\n",
       "        48.57583333, 320.50941667])"
      ]
     },
     "execution_count": 65,
     "metadata": {},
     "output_type": "execute_result"
    }
   ],
   "source": [
    "multi_rf.predict( test_X ).sum(axis=1)"
   ]
  },
  {
   "cell_type": "markdown",
   "id": "0324bff6-6c84-477b-8e32-b64ba5cc3242",
   "metadata": {},
   "source": [
    "# 평가\n",
    "- 분류\n",
    "    - 정확도(accuracy) => 예측한 것 중 몇개를 맞아나?!\n",
    "    - 정밀도\n",
    "    - 제현율\n",
    "    - f1-score\n",
    "- 회귀\n",
    "    - 오차(error) => 실제 데이터와 우리가 예측한 값간에 거리\n",
    "    - RMSE : target 데이터가 정규분포에 가까울 때\n",
    "    - RMSLE : target 데이터가 skew 되어 있을 경우"
   ]
  },
  {
   "cell_type": "markdown",
   "id": "8c1ebab3-385a-43bf-85a3-21fdeb2c177c",
   "metadata": {},
   "source": [
    "## Imbalaced data\n",
    "- 데이터가 불균형\n",
    "- 어떻게 모델을 평가, 개선할까?\n",
    "- 해결법\n",
    "    1. 데이터를 샘플링 => 적은 데이터를 늘리거나, 많은 데이터를 줄여\n",
    "    2. 다른 평가 지표 사용\n",
    "    3. 모델 내에서 해결"
   ]
  },
  {
   "cell_type": "code",
   "execution_count": null,
   "id": "161db65e-e529-4c3b-961e-f0d33e7df724",
   "metadata": {},
   "outputs": [],
   "source": [
    "1 - 알고 싶은 것(포착하고 싶은 거)\n",
    "    적게 발생 (5)\n",
    "0 - 그 외\n",
    "    상대적으로 훨씬 많음 (95)\n",
    "=> 정확도 보다는 1을 잘 캐치하고 싶음"
   ]
  },
  {
   "cell_type": "code",
   "execution_count": null,
   "id": "dba5ee9b-2404-4e11-b36f-95aa586c7e96",
   "metadata": {},
   "outputs": [],
   "source": [
    "정확도 : 전체에서 몇 개를 맞췄나\n",
    "재현율 : 전체 1(양성 데이터) 중에서 몇 개를 맞춰냐 (도전적)\n",
    "정밀도 : 우리가 1이라고 예측한 것중에서 몇개나 맞췄냐 (안정적)\n",
    "    => threshold : 0.5"
   ]
  },
  {
   "cell_type": "code",
   "execution_count": 73,
   "id": "415e4435-ed9d-44d4-ba6f-93ccd4b58aa4",
   "metadata": {},
   "outputs": [],
   "source": [
    "titanic_df = sns.load_dataset('titanic')\n",
    "one_hot = OneHotEncoder( sparse_output=False, drop='first' )\n",
    "X = one_hot.fit_transform( titanic_df[['pclass', 'sex']] )\n",
    "y = titanic_df['survived']"
   ]
  },
  {
   "cell_type": "code",
   "execution_count": 77,
   "id": "df5f6822-6eb8-4c4a-b40b-d7488363a388",
   "metadata": {},
   "outputs": [
    {
     "data": {
      "text/html": [
       "<style>#sk-container-id-9 {color: black;background-color: white;}#sk-container-id-9 pre{padding: 0;}#sk-container-id-9 div.sk-toggleable {background-color: white;}#sk-container-id-9 label.sk-toggleable__label {cursor: pointer;display: block;width: 100%;margin-bottom: 0;padding: 0.3em;box-sizing: border-box;text-align: center;}#sk-container-id-9 label.sk-toggleable__label-arrow:before {content: \"▸\";float: left;margin-right: 0.25em;color: #696969;}#sk-container-id-9 label.sk-toggleable__label-arrow:hover:before {color: black;}#sk-container-id-9 div.sk-estimator:hover label.sk-toggleable__label-arrow:before {color: black;}#sk-container-id-9 div.sk-toggleable__content {max-height: 0;max-width: 0;overflow: hidden;text-align: left;background-color: #f0f8ff;}#sk-container-id-9 div.sk-toggleable__content pre {margin: 0.2em;color: black;border-radius: 0.25em;background-color: #f0f8ff;}#sk-container-id-9 input.sk-toggleable__control:checked~div.sk-toggleable__content {max-height: 200px;max-width: 100%;overflow: auto;}#sk-container-id-9 input.sk-toggleable__control:checked~label.sk-toggleable__label-arrow:before {content: \"▾\";}#sk-container-id-9 div.sk-estimator input.sk-toggleable__control:checked~label.sk-toggleable__label {background-color: #d4ebff;}#sk-container-id-9 div.sk-label input.sk-toggleable__control:checked~label.sk-toggleable__label {background-color: #d4ebff;}#sk-container-id-9 input.sk-hidden--visually {border: 0;clip: rect(1px 1px 1px 1px);clip: rect(1px, 1px, 1px, 1px);height: 1px;margin: -1px;overflow: hidden;padding: 0;position: absolute;width: 1px;}#sk-container-id-9 div.sk-estimator {font-family: monospace;background-color: #f0f8ff;border: 1px dotted black;border-radius: 0.25em;box-sizing: border-box;margin-bottom: 0.5em;}#sk-container-id-9 div.sk-estimator:hover {background-color: #d4ebff;}#sk-container-id-9 div.sk-parallel-item::after {content: \"\";width: 100%;border-bottom: 1px solid gray;flex-grow: 1;}#sk-container-id-9 div.sk-label:hover label.sk-toggleable__label {background-color: #d4ebff;}#sk-container-id-9 div.sk-serial::before {content: \"\";position: absolute;border-left: 1px solid gray;box-sizing: border-box;top: 0;bottom: 0;left: 50%;z-index: 0;}#sk-container-id-9 div.sk-serial {display: flex;flex-direction: column;align-items: center;background-color: white;padding-right: 0.2em;padding-left: 0.2em;position: relative;}#sk-container-id-9 div.sk-item {position: relative;z-index: 1;}#sk-container-id-9 div.sk-parallel {display: flex;align-items: stretch;justify-content: center;background-color: white;position: relative;}#sk-container-id-9 div.sk-item::before, #sk-container-id-9 div.sk-parallel-item::before {content: \"\";position: absolute;border-left: 1px solid gray;box-sizing: border-box;top: 0;bottom: 0;left: 50%;z-index: -1;}#sk-container-id-9 div.sk-parallel-item {display: flex;flex-direction: column;z-index: 1;position: relative;background-color: white;}#sk-container-id-9 div.sk-parallel-item:first-child::after {align-self: flex-end;width: 50%;}#sk-container-id-9 div.sk-parallel-item:last-child::after {align-self: flex-start;width: 50%;}#sk-container-id-9 div.sk-parallel-item:only-child::after {width: 0;}#sk-container-id-9 div.sk-dashed-wrapped {border: 1px dashed gray;margin: 0 0.4em 0.5em 0.4em;box-sizing: border-box;padding-bottom: 0.4em;background-color: white;}#sk-container-id-9 div.sk-label label {font-family: monospace;font-weight: bold;display: inline-block;line-height: 1.2em;}#sk-container-id-9 div.sk-label-container {text-align: center;}#sk-container-id-9 div.sk-container {/* jupyter's `normalize.less` sets `[hidden] { display: none; }` but bootstrap.min.css set `[hidden] { display: none !important; }` so we also need the `!important` here to be able to override the default hidden behavior on the sphinx rendered scikit-learn.org. See: https://github.com/scikit-learn/scikit-learn/issues/21755 */display: inline-block !important;position: relative;}#sk-container-id-9 div.sk-text-repr-fallback {display: none;}</style><div id=\"sk-container-id-9\" class=\"sk-top-container\"><div class=\"sk-text-repr-fallback\"><pre>KNeighborsClassifier()</pre><b>In a Jupyter environment, please rerun this cell to show the HTML representation or trust the notebook. <br />On GitHub, the HTML representation is unable to render, please try loading this page with nbviewer.org.</b></div><div class=\"sk-container\" hidden><div class=\"sk-item\"><div class=\"sk-estimator sk-toggleable\"><input class=\"sk-toggleable__control sk-hidden--visually\" id=\"sk-estimator-id-17\" type=\"checkbox\" checked><label for=\"sk-estimator-id-17\" class=\"sk-toggleable__label sk-toggleable__label-arrow\">KNeighborsClassifier</label><div class=\"sk-toggleable__content\"><pre>KNeighborsClassifier()</pre></div></div></div></div></div>"
      ],
      "text/plain": [
       "KNeighborsClassifier()"
      ]
     },
     "execution_count": 77,
     "metadata": {},
     "output_type": "execute_result"
    }
   ],
   "source": [
    "from sklearn.neighbors import KNeighborsClassifier\n",
    "\n",
    "knn = KNeighborsClassifier()\n",
    "knn.fit(X, y)"
   ]
  },
  {
   "cell_type": "code",
   "execution_count": 93,
   "id": "e56ce42d-ef68-490d-815e-d93cf4d8260f",
   "metadata": {},
   "outputs": [],
   "source": [
    "from sklearn.metrics import recall_score, precision_score, confusion_matrix, f1_score"
   ]
  },
  {
   "cell_type": "code",
   "execution_count": 79,
   "id": "5516b81e-3882-4833-b537-10b786d2117c",
   "metadata": {},
   "outputs": [
    {
     "data": {
      "text/plain": [
       "array([[468,  81],\n",
       "       [109, 233]], dtype=int64)"
      ]
     },
     "execution_count": 79,
     "metadata": {},
     "output_type": "execute_result"
    }
   ],
   "source": [
    "confusion_matrix( y, knn.predict(X) )"
   ]
  },
  {
   "cell_type": "code",
   "execution_count": 82,
   "id": "1d92c568-f31a-45ce-92bb-6a03d2d39bcf",
   "metadata": {},
   "outputs": [
    {
     "data": {
      "text/plain": [
       "0.6812865497076024"
      ]
     },
     "execution_count": 82,
     "metadata": {},
     "output_type": "execute_result"
    }
   ],
   "source": [
    "recall_score( y, knn.predict(X) )"
   ]
  },
  {
   "cell_type": "code",
   "execution_count": 83,
   "id": "44b1499a-e847-4384-8d84-303943d10bac",
   "metadata": {},
   "outputs": [
    {
     "data": {
      "text/plain": [
       "0.7420382165605095"
      ]
     },
     "execution_count": 83,
     "metadata": {},
     "output_type": "execute_result"
    }
   ],
   "source": [
    "precision_score(y , knn.predict(X) )"
   ]
  },
  {
   "cell_type": "code",
   "execution_count": 91,
   "id": "2733411c-82b5-41dd-b114-508ab83aebb2",
   "metadata": {
    "scrolled": true
   },
   "outputs": [
    {
     "data": {
      "text/plain": [
       "0.7309941520467836"
      ]
     },
     "execution_count": 91,
     "metadata": {},
     "output_type": "execute_result"
    }
   ],
   "source": [
    "# 재현율 올리기\n",
    "\n",
    "# 1이될 확률\n",
    "temp = (knn.predict_proba( X )[:, 1] >= 0.3).astype(int)\n",
    "recall_score( y, temp  )"
   ]
  },
  {
   "cell_type": "code",
   "execution_count": 96,
   "id": "e5f3ebe8-4941-4d49-972c-af1fa761ed47",
   "metadata": {},
   "outputs": [],
   "source": [
    "score_list = []\n",
    "for p in range(0, 100, 5):\n",
    "    temp = (knn.predict_proba( X )[:, 1] >= p/100).astype(int)\n",
    "    score = f1_score( y, temp  )\n",
    "    score_list.append(score)"
   ]
  },
  {
   "cell_type": "code",
   "execution_count": 97,
   "id": "e7d5bb10-cafe-4e6f-a030-b631ff29e71a",
   "metadata": {},
   "outputs": [
    {
     "data": {
      "image/png": "[encoded data removed]",
      "text/plain": [
       "<Figure size 400x200 with 1 Axes>"
      ]
     },
     "metadata": {},
     "output_type": "display_data"
    }
   ],
   "source": [
    "plt.figure(figsize=(4, 2))\n",
    "plt.plot( range(0, 100, 5), score_list )\n",
    "plt.show()"
   ]
  },
  {
   "cell_type": "code",
   "execution_count": null,
   "id": "4dd69b0e-807b-4b50-986a-845e3da2e812",
   "metadata": {},
   "outputs": [],
   "source": [
    "재현율   => 전체 1중에서 우리가 1을 맞춘 비율, 1을 놓치면 큰일 날때\n",
    "정밀도   => 1이라고 예측한 것 중에서 1을 맞춘 비율, 0을 1이라 말하면 비용이 높을 때\n",
    "f-score"
   ]
  },
  {
   "cell_type": "code",
   "execution_count": 98,
   "id": "08bfa00a-e94d-4db0-959c-01757210a47d",
   "metadata": {},
   "outputs": [],
   "source": [
    "from sklearn.ensemble import RandomForestClassifier\n",
    "\n",
    "RandomForestClassifier(class_weight='balanced')"
   ]
  },
  {
   "cell_type": "markdown",
   "id": "86fcfe56-02f7-4d73-832e-9c7d27335d1a",
   "metadata": {},
   "source": [
    "# 비지도 학습\n",
    "- target 데이터가 없는 경우\n",
    "- (컴퓨터가 알아서) 데이터를 분류해 줌 => 군집분석\n",
    "- 차원축소\n",
    "\n",
    "## 차원축소\n",
    "- PCA(주성분 분석)"
   ]
  },
  {
   "cell_type": "code",
   "execution_count": 103,
   "id": "651941f3-7447-4dff-a965-e9c853749de9",
   "metadata": {},
   "outputs": [],
   "source": [
    "from sklearn.decomposition import PCA\n",
    "\n",
    "iris_df = sns.load_dataset('iris')\n",
    "X = iris_df.iloc[:, :-1]\n",
    "y = iris_df['species']"
   ]
  },
  {
   "cell_type": "code",
   "execution_count": 113,
   "id": "17dba471-a809-4233-a997-b1f422fef3f3",
   "metadata": {},
   "outputs": [
    {
     "data": {
      "text/plain": [
       "array([0.92461872, 0.97768521, 0.99478782, 1.        ])"
      ]
     },
     "execution_count": 113,
     "metadata": {},
     "output_type": "execute_result"
    }
   ],
   "source": [
    "pca = PCA()\n",
    "pca.fit(X)\n",
    "np.cumsum( pca.explained_variance_ratio_ )"
   ]
  },
  {
   "cell_type": "code",
   "execution_count": 117,
   "id": "43f6b5c2-6025-4987-a5b3-11b4bf3133e5",
   "metadata": {},
   "outputs": [
    {
     "data": {
      "text/plain": [
       "0.9666666666666667"
      ]
     },
     "execution_count": 117,
     "metadata": {},
     "output_type": "execute_result"
    }
   ],
   "source": [
    "pca = PCA(n_components=2)\n",
    "X2 = pca.fit_transform(X)\n",
    "train_x, valid_x, train_y, valid_y = train_test_split(X2, y, \n",
    "                                                      test_size=0.2,\n",
    "                                                      random_state=18,\n",
    "                                                      stratify=y)\n",
    "knn = KNeighborsClassifier()\n",
    "knn.fit(train_x, train_y)\n",
    "knn.score(valid_x, valid_y)"
   ]
  },
  {
   "cell_type": "markdown",
   "id": "0cf6fef6-e1f3-47ea-8134-a5a7dbb7bafe",
   "metadata": {},
   "source": [
    "## 군집분석\n",
    "- Kmeans 알고리즘"
   ]
  },
  {
   "cell_type": "code",
   "execution_count": 119,
   "id": "09f5af38-9390-4b86-bd85-8b989e2cc973",
   "metadata": {},
   "outputs": [],
   "source": [
    "from sklearn.cluster import KMeans"
   ]
  },
  {
   "cell_type": "code",
   "execution_count": 122,
   "id": "1fc6240c-b2c7-4803-a01f-e5c05b480602",
   "metadata": {},
   "outputs": [
    {
     "name": "stderr",
     "output_type": "stream",
     "text": [
      "C:\\Users\\USER\\anaconda3\\Lib\\site-packages\\sklearn\\cluster\\_kmeans.py:870: FutureWarning: The default value of `n_init` will change from 10 to 'auto' in 1.4. Set the value of `n_init` explicitly to suppress the warning\n",
      "  warnings.warn(\n",
      "C:\\Users\\USER\\anaconda3\\Lib\\site-packages\\sklearn\\cluster\\_kmeans.py:1382: UserWarning: KMeans is known to have a memory leak on Windows with MKL, when there are less chunks than available threads. You can avoid it by setting the environment variable OMP_NUM_THREADS=1.\n",
      "  warnings.warn(\n"
     ]
    },
    {
     "data": {
      "text/html": [
       "<style>#sk-container-id-11 {color: black;background-color: white;}#sk-container-id-11 pre{padding: 0;}#sk-container-id-11 div.sk-toggleable {background-color: white;}#sk-container-id-11 label.sk-toggleable__label {cursor: pointer;display: block;width: 100%;margin-bottom: 0;padding: 0.3em;box-sizing: border-box;text-align: center;}#sk-container-id-11 label.sk-toggleable__label-arrow:before {content: \"▸\";float: left;margin-right: 0.25em;color: #696969;}#sk-container-id-11 label.sk-toggleable__label-arrow:hover:before {color: black;}#sk-container-id-11 div.sk-estimator:hover label.sk-toggleable__label-arrow:before {color: black;}#sk-container-id-11 div.sk-toggleable__content {max-height: 0;max-width: 0;overflow: hidden;text-align: left;background-color: #f0f8ff;}#sk-container-id-11 div.sk-toggleable__content pre {margin: 0.2em;color: black;border-radius: 0.25em;background-color: #f0f8ff;}#sk-container-id-11 input.sk-toggleable__control:checked~div.sk-toggleable__content {max-height: 200px;max-width: 100%;overflow: auto;}#sk-container-id-11 input.sk-toggleable__control:checked~label.sk-toggleable__label-arrow:before {content: \"▾\";}#sk-container-id-11 div.sk-estimator input.sk-toggleable__control:checked~label.sk-toggleable__label {background-color: #d4ebff;}#sk-container-id-11 div.sk-label input.sk-toggleable__control:checked~label.sk-toggleable__label {background-color: #d4ebff;}#sk-container-id-11 input.sk-hidden--visually {border: 0;clip: rect(1px 1px 1px 1px);clip: rect(1px, 1px, 1px, 1px);height: 1px;margin: -1px;overflow: hidden;padding: 0;position: absolute;width: 1px;}#sk-container-id-11 div.sk-estimator {font-family: monospace;background-color: #f0f8ff;border: 1px dotted black;border-radius: 0.25em;box-sizing: border-box;margin-bottom: 0.5em;}#sk-container-id-11 div.sk-estimator:hover {background-color: #d4ebff;}#sk-container-id-11 div.sk-parallel-item::after {content: \"\";width: 100%;border-bottom: 1px solid gray;flex-grow: 1;}#sk-container-id-11 div.sk-label:hover label.sk-toggleable__label {background-color: #d4ebff;}#sk-container-id-11 div.sk-serial::before {content: \"\";position: absolute;border-left: 1px solid gray;box-sizing: border-box;top: 0;bottom: 0;left: 50%;z-index: 0;}#sk-container-id-11 div.sk-serial {display: flex;flex-direction: column;align-items: center;background-color: white;padding-right: 0.2em;padding-left: 0.2em;position: relative;}#sk-container-id-11 div.sk-item {position: relative;z-index: 1;}#sk-container-id-11 div.sk-parallel {display: flex;align-items: stretch;justify-content: center;background-color: white;position: relative;}#sk-container-id-11 div.sk-item::before, #sk-container-id-11 div.sk-parallel-item::before {content: \"\";position: absolute;border-left: 1px solid gray;box-sizing: border-box;top: 0;bottom: 0;left: 50%;z-index: -1;}#sk-container-id-11 div.sk-parallel-item {display: flex;flex-direction: column;z-index: 1;position: relative;background-color: white;}#sk-container-id-11 div.sk-parallel-item:first-child::after {align-self: flex-end;width: 50%;}#sk-container-id-11 div.sk-parallel-item:last-child::after {align-self: flex-start;width: 50%;}#sk-container-id-11 div.sk-parallel-item:only-child::after {width: 0;}#sk-container-id-11 div.sk-dashed-wrapped {border: 1px dashed gray;margin: 0 0.4em 0.5em 0.4em;box-sizing: border-box;padding-bottom: 0.4em;background-color: white;}#sk-container-id-11 div.sk-label label {font-family: monospace;font-weight: bold;display: inline-block;line-height: 1.2em;}#sk-container-id-11 div.sk-label-container {text-align: center;}#sk-container-id-11 div.sk-container {/* jupyter's `normalize.less` sets `[hidden] { display: none; }` but bootstrap.min.css set `[hidden] { display: none !important; }` so we also need the `!important` here to be able to override the default hidden behavior on the sphinx rendered scikit-learn.org. See: https://github.com/scikit-learn/scikit-learn/issues/21755 */display: inline-block !important;position: relative;}#sk-container-id-11 div.sk-text-repr-fallback {display: none;}</style><div id=\"sk-container-id-11\" class=\"sk-top-container\"><div class=\"sk-text-repr-fallback\"><pre>KMeans(n_clusters=3)</pre><b>In a Jupyter environment, please rerun this cell to show the HTML representation or trust the notebook. <br />On GitHub, the HTML representation is unable to render, please try loading this page with nbviewer.org.</b></div><div class=\"sk-container\" hidden><div class=\"sk-item\"><div class=\"sk-estimator sk-toggleable\"><input class=\"sk-toggleable__control sk-hidden--visually\" id=\"sk-estimator-id-19\" type=\"checkbox\" checked><label for=\"sk-estimator-id-19\" class=\"sk-toggleable__label sk-toggleable__label-arrow\">KMeans</label><div class=\"sk-toggleable__content\"><pre>KMeans(n_clusters=3)</pre></div></div></div></div></div>"
      ],
      "text/plain": [
       "KMeans(n_clusters=3)"
      ]
     },
     "execution_count": 122,
     "metadata": {},
     "output_type": "execute_result"
    }
   ],
   "source": [
    "kmeans = KMeans( n_clusters=3 )\n",
    "kmeans.fit( iris_df.iloc[:, :4] )"
   ]
  },
  {
   "cell_type": "code",
   "execution_count": 131,
   "id": "10c383c0-6486-4398-8765-546886cbf867",
   "metadata": {},
   "outputs": [
    {
     "data": {
      "image/png": "[encoded data removed]",
      "text/plain": [
       "<Figure size 400x300 with 1 Axes>"
      ]
     },
     "metadata": {},
     "output_type": "display_data"
    },
    {
     "data": {
      "image/png": "[encoded data removed]",
      "text/plain": [
       "<Figure size 400x300 with 1 Axes>"
      ]
     },
     "metadata": {},
     "output_type": "display_data"
    }
   ],
   "source": [
    "iris_df['class'] = kmeans.predict( iris_df.iloc[:, :4] )\n",
    "\n",
    "plt.figure(figsize=(4, 3))\n",
    "sns.scatterplot(iris_df, x='petal_length', y='petal_width', hue='species')\n",
    "plt.show()\n",
    "\n",
    "plt.figure(figsize=(4, 3))\n",
    "sns.scatterplot(iris_df, x='petal_length', y='petal_width', hue='class',\n",
    "                palette='Set1')\n",
    "plt.show()"
   ]
  },
  {
   "cell_type": "code",
   "execution_count": null,
   "id": "3152bf80-3502-41d0-845c-de0bb8982874",
   "metadata": {
    "scrolled": true
   },
   "outputs": [],
   "source": [
    "# 최적의 k를 찾아보자\n",
    "wcss_list = []\n",
    "for k in range(1, 16):\n",
    "    km = KMeans(n_clusters=k)\n",
    "    km.fit(iris_df.iloc[:, :4])\n",
    "    wcss_list.append( km.inertia_ ) # WCSS"
   ]
  },
  {
   "cell_type": "code",
   "execution_count": 136,
   "id": "df1dff4f-0886-4b12-9c50-6b72ada032d6",
   "metadata": {},
   "outputs": [
    {
     "data": {
      "image/png": "[encoded data removed]",
      "text/plain": [
       "<Figure size 400x200 with 1 Axes>"
      ]
     },
     "metadata": {},
     "output_type": "display_data"
    }
   ],
   "source": [
    "plt.figure(figsize=(4, 2))\n",
    "plt.plot( range(1, 16), wcss_list )\n",
    "plt.show()"
   ]
  },
  {
   "cell_type": "code",
   "execution_count": 142,
   "id": "ad8189ab-98cc-48b4-8ee2-a3cc27a509e0",
   "metadata": {},
   "outputs": [],
   "source": [
    "customer_df = pd.read_csv(r'C:\\Users\\USER\\OneDrive\\Desktop\\2025 수업\\DA양성과정 ML\\고객설문.csv')\n",
    "sc = StandardScaler()\n",
    "X = pd.DataFrame( sc.fit_transform(customer_df), columns=['Satisfication', 'Loyalty'])"
   ]
  },
  {
   "cell_type": "code",
   "execution_count": null,
   "id": "d31c151c-b8bb-44d7-a1ff-077ff8342d13",
   "metadata": {},
   "outputs": [],
   "source": [
    "wcss_list = []\n",
    "for k in range(1, 16):\n",
    "    km = KMeans(n_clusters=k)\n",
    "    km.fit(X)\n",
    "    wcss_list.append( km.inertia_ ) # WCSS"
   ]
  },
  {
   "cell_type": "code",
   "execution_count": 146,
   "id": "fa077dd5-d7b3-40eb-8e44-0b0e707e7799",
   "metadata": {},
   "outputs": [
    {
     "data": {
      "image/png": "[encoded data removed]",
      "text/plain": [
       "<Figure size 400x200 with 1 Axes>"
      ]
     },
     "metadata": {},
     "output_type": "display_data"
    }
   ],
   "source": [
    "plt.figure(figsize=(4, 2))\n",
    "plt.plot( range(1, 16), wcss_list, marker='o')\n",
    "plt.show()"
   ]
  },
  {
   "cell_type": "code",
   "execution_count": null,
   "id": "5843b988-b49e-4f80-87fe-f9c267efedcf",
   "metadata": {},
   "outputs": [],
   "source": [
    "km = KMeans(n_clusters=4)\n",
    "km.fit(X)\n",
    "X['class_4'] = km.predict(X)"
   ]
  },
  {
   "cell_type": "code",
   "execution_count": 152,
   "id": "5ff29297-2150-455f-bceb-aaa5fec3cd42",
   "metadata": {},
   "outputs": [
    {
     "data": {
      "image/png": "[encoded data removed]",
      "text/plain": [
       "<Figure size 400x300 with 1 Axes>"
      ]
     },
     "metadata": {},
     "output_type": "display_data"
    }
   ],
   "source": [
    "plt.figure(figsize=(4, 3))\n",
    "sns.scatterplot(X, x='Satisfication', y='Loyalty', hue='class_4',\n",
    "                palette='Set1')\n",
    "plt.legend(loc=(-1, 0))\n",
    "plt.show()"
   ]
  },
  {
   "cell_type": "code",
   "execution_count": null,
   "id": "32149328-deaa-49f7-8a7d-d911adbcbb16",
   "metadata": {},
   "outputs": [],
   "source": []
  }
 ],
 "metadata": {
  "kernelspec": {
   "display_name": "Python 3 (ipykernel)",
   "language": "python",
   "name": "python3"
  },
  "language_info": {
   "codemirror_mode": {
    "name": "ipython",
    "version": 3
   },
   "file_extension": ".py",
   "mimetype": "text/x-python",
   "name": "python",
   "nbconvert_exporter": "python",
   "pygments_lexer": "ipython3",
   "version": "3.12.7"
  }
 },
 "nbformat": 4,
 "nbformat_minor": 5
}
