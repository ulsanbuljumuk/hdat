{
 "cells": [
  {
   "cell_type": "markdown",
   "id": "dc113114-5f0d-4816-a5ed-14c268c115de",
   "metadata": {},
   "source": [
    "# 복습\n",
    "- 데이터 = 테이블\n",
    "- 종류 : 카테고리, 연속된 숫자\n",
    "- 시각화(현미경) => 종류에 따라 적절히\n",
    "- ML => 사이킷런\n",
    "    - 3단계 : 생성 => 훈련(fit) => 예측(predict), 검증(score)\n",
    "- ML 전에 데이터를 가공\n",
    "    - 스케일링, 인코딩 ..."
   ]
  },
  {
   "cell_type": "markdown",
   "id": "a3eabc82-e3dc-4a3d-8673-1d641b3a0d64",
   "metadata": {},
   "source": [
    "# ML의 분류 모델\n",
    "- target 데이터가 있냐 없냐\n",
    "    - 지도학습, 비지도학습\n",
    "- target 데이터의 종류\n",
    "    - 카테고리 => 분류모델(Classification)\n",
    "    - 연속된 숫자 => 회귀모델(Regressor)"
   ]
  },
  {
   "cell_type": "markdown",
   "id": "74e7c425-7a24-40e3-aee2-e9c77a96bfa8",
   "metadata": {},
   "source": [
    "## 데이터 읽어오기"
   ]
  },
  {
   "cell_type": "code",
   "execution_count": 1,
   "id": "81d2e218-3bb9-4a86-898b-3018c590839d",
   "metadata": {},
   "outputs": [],
   "source": [
    "import pandas as pd\n",
    "import numpy as np\n",
    "import matplotlib.pyplot as plt\n",
    "import seaborn as sns"
   ]
  },
  {
   "cell_type": "code",
   "execution_count": 8,
   "id": "bd226ed2-8b8e-4f6c-b0fa-9db318ad5280",
   "metadata": {},
   "outputs": [],
   "source": [
    "train_df = pd.read_csv(r'C:\\Users\\USER\\OneDrive\\Desktop\\2025 수업\\DA양성과정 ML\\train.csv')\n",
    "test_df = pd.read_csv(r'C:\\Users\\USER\\OneDrive\\Desktop\\2025 수업\\DA양성과정 ML\\test.csv')"
   ]
  },
  {
   "cell_type": "code",
   "execution_count": 9,
   "id": "0f7db3c6-c434-42bb-bf64-137f06aff9a6",
   "metadata": {},
   "outputs": [
    {
     "data": {
      "text/html": [
       "<div>\n",
       "<style scoped>\n",
       "    .dataframe tbody tr th:only-of-type {\n",
       "        vertical-align: middle;\n",
       "    }\n",
       "\n",
       "    .dataframe tbody tr th {\n",
       "        vertical-align: top;\n",
       "    }\n",
       "\n",
       "    .dataframe thead th {\n",
       "        text-align: right;\n",
       "    }\n",
       "</style>\n",
       "<table border=\"1\" class=\"dataframe\">\n",
       "  <thead>\n",
       "    <tr style=\"text-align: right;\">\n",
       "      <th></th>\n",
       "      <th>PassengerId</th>\n",
       "      <th>Survived</th>\n",
       "      <th>Pclass</th>\n",
       "      <th>Name</th>\n",
       "      <th>Sex</th>\n",
       "      <th>Age</th>\n",
       "      <th>SibSp</th>\n",
       "      <th>Parch</th>\n",
       "      <th>Ticket</th>\n",
       "      <th>Fare</th>\n",
       "      <th>Cabin</th>\n",
       "      <th>Embarked</th>\n",
       "    </tr>\n",
       "  </thead>\n",
       "  <tbody>\n",
       "    <tr>\n",
       "      <th>0</th>\n",
       "      <td>1</td>\n",
       "      <td>0</td>\n",
       "      <td>3</td>\n",
       "      <td>Braund, Mr. Owen Harris</td>\n",
       "      <td>male</td>\n",
       "      <td>22.0</td>\n",
       "      <td>1</td>\n",
       "      <td>0</td>\n",
       "      <td>A/5 21171</td>\n",
       "      <td>7.2500</td>\n",
       "      <td>NaN</td>\n",
       "      <td>S</td>\n",
       "    </tr>\n",
       "    <tr>\n",
       "      <th>1</th>\n",
       "      <td>2</td>\n",
       "      <td>1</td>\n",
       "      <td>1</td>\n",
       "      <td>Cumings, Mrs. John Bradley (Florence Briggs Th...</td>\n",
       "      <td>female</td>\n",
       "      <td>38.0</td>\n",
       "      <td>1</td>\n",
       "      <td>0</td>\n",
       "      <td>PC 17599</td>\n",
       "      <td>71.2833</td>\n",
       "      <td>C85</td>\n",
       "      <td>C</td>\n",
       "    </tr>\n",
       "    <tr>\n",
       "      <th>2</th>\n",
       "      <td>3</td>\n",
       "      <td>1</td>\n",
       "      <td>3</td>\n",
       "      <td>Heikkinen, Miss. Laina</td>\n",
       "      <td>female</td>\n",
       "      <td>26.0</td>\n",
       "      <td>0</td>\n",
       "      <td>0</td>\n",
       "      <td>STON/O2. 3101282</td>\n",
       "      <td>7.9250</td>\n",
       "      <td>NaN</td>\n",
       "      <td>S</td>\n",
       "    </tr>\n",
       "  </tbody>\n",
       "</table>\n",
       "</div>"
      ],
      "text/plain": [
       "   PassengerId  Survived  Pclass  \\\n",
       "0            1         0       3   \n",
       "1            2         1       1   \n",
       "2            3         1       3   \n",
       "\n",
       "                                                Name     Sex   Age  SibSp  \\\n",
       "0                            Braund, Mr. Owen Harris    male  22.0      1   \n",
       "1  Cumings, Mrs. John Bradley (Florence Briggs Th...  female  38.0      1   \n",
       "2                             Heikkinen, Miss. Laina  female  26.0      0   \n",
       "\n",
       "   Parch            Ticket     Fare Cabin Embarked  \n",
       "0      0         A/5 21171   7.2500   NaN        S  \n",
       "1      0          PC 17599  71.2833   C85        C  \n",
       "2      0  STON/O2. 3101282   7.9250   NaN        S  "
      ]
     },
     "execution_count": 9,
     "metadata": {},
     "output_type": "execute_result"
    }
   ],
   "source": [
    "# target => Survived => 분류문제\n",
    "# feature\n",
    "# 카테고리 : Pclass, Sex, Embarked  =>  숫자로 바꿔줌(인코딩)\n",
    "# 연속된숫자 : Age, Fare            =>  스케일을 맞춰줌(스케일링)\n",
    "# 데이터가 아닌 것들 : Name, Ticket, Cabin, SibSp, Parch => 데이터로 변형\n",
    "\n",
    "train_df.head(3)"
   ]
  },
  {
   "cell_type": "markdown",
   "id": "90b0b1f3-e737-4f11-a6c4-db6c3faf7bf4",
   "metadata": {},
   "source": [
    "## EDA & 결측값 채우기\n",
    "- 다양하게 시각화를 해서 데이터의 특징을 파악"
   ]
  },
  {
   "cell_type": "code",
   "execution_count": 15,
   "id": "340ac8a3-3ab1-4e4d-abc4-c6f2c6171111",
   "metadata": {},
   "outputs": [
    {
     "data": {
      "text/plain": [
       "PassengerId     0.000000\n",
       "Survived        0.000000\n",
       "Pclass          0.000000\n",
       "Name            0.000000\n",
       "Sex             0.000000\n",
       "Age            19.865320\n",
       "SibSp           0.000000\n",
       "Parch           0.000000\n",
       "Ticket          0.000000\n",
       "Fare            0.000000\n",
       "Cabin          77.104377\n",
       "Embarked        0.224467\n",
       "dtype: float64"
      ]
     },
     "execution_count": 15,
     "metadata": {},
     "output_type": "execute_result"
    }
   ],
   "source": [
    "# 결측 데이터\n",
    "# 결측 데이터가 얼마나 있나? => 집계\n",
    "\n",
    "train_df.isna().sum() / len(train_df) * 100"
   ]
  },
  {
   "cell_type": "code",
   "execution_count": 16,
   "id": "5b489f77-19ea-4e47-a873-170b7419c415",
   "metadata": {},
   "outputs": [
    {
     "data": {
      "text/plain": [
       "PassengerId     0.000000\n",
       "Pclass          0.000000\n",
       "Name            0.000000\n",
       "Sex             0.000000\n",
       "Age            20.574163\n",
       "SibSp           0.000000\n",
       "Parch           0.000000\n",
       "Ticket          0.000000\n",
       "Fare            0.239234\n",
       "Cabin          78.229665\n",
       "Embarked        0.000000\n",
       "dtype: float64"
      ]
     },
     "execution_count": 16,
     "metadata": {},
     "output_type": "execute_result"
    }
   ],
   "source": [
    "test_df.isna().sum() / len(test_df) * 100"
   ]
  },
  {
   "cell_type": "markdown",
   "id": "a8186634-16dd-4bd6-a7b2-5938dead5443",
   "metadata": {},
   "source": [
    "### Embarked 결측값 채우기"
   ]
  },
  {
   "cell_type": "code",
   "execution_count": 18,
   "id": "dbef8214-5f25-4027-bda5-97bddc346f4f",
   "metadata": {},
   "outputs": [
    {
     "data": {
      "image/png": "[encoded data removed]",
      "text/plain": [
       "<Figure size 400x200 with 1 Axes>"
      ]
     },
     "metadata": {},
     "output_type": "display_data"
    }
   ],
   "source": [
    "plt.figure(figsize=(4, 2))\n",
    "sns.countplot(data=train_df, x='Embarked')\n",
    "plt.show()"
   ]
  },
  {
   "cell_type": "code",
   "execution_count": 21,
   "id": "757981ad-09a3-499d-950e-c4eeebc54dd7",
   "metadata": {},
   "outputs": [
    {
     "data": {
      "image/png": "[encoded data removed]",
      "text/plain": [
       "<Figure size 400x200 with 1 Axes>"
      ]
     },
     "metadata": {},
     "output_type": "display_data"
    }
   ],
   "source": [
    "plt.figure(figsize=(4, 2))\n",
    "sns.boxplot(data=train_df, x='Embarked', y='Fare', hue='Sex')\n",
    "plt.ylim( [0, 100] )\n",
    "plt.show()"
   ]
  },
  {
   "cell_type": "code",
   "execution_count": 22,
   "id": "0881554f-f2a5-49d4-bdd6-6ec6972db3c2",
   "metadata": {},
   "outputs": [
    {
     "data": {
      "text/html": [
       "<div>\n",
       "<style scoped>\n",
       "    .dataframe tbody tr th:only-of-type {\n",
       "        vertical-align: middle;\n",
       "    }\n",
       "\n",
       "    .dataframe tbody tr th {\n",
       "        vertical-align: top;\n",
       "    }\n",
       "\n",
       "    .dataframe thead th {\n",
       "        text-align: right;\n",
       "    }\n",
       "</style>\n",
       "<table border=\"1\" class=\"dataframe\">\n",
       "  <thead>\n",
       "    <tr style=\"text-align: right;\">\n",
       "      <th></th>\n",
       "      <th>PassengerId</th>\n",
       "      <th>Survived</th>\n",
       "      <th>Pclass</th>\n",
       "      <th>Name</th>\n",
       "      <th>Sex</th>\n",
       "      <th>Age</th>\n",
       "      <th>SibSp</th>\n",
       "      <th>Parch</th>\n",
       "      <th>Ticket</th>\n",
       "      <th>Fare</th>\n",
       "      <th>Cabin</th>\n",
       "      <th>Embarked</th>\n",
       "    </tr>\n",
       "  </thead>\n",
       "  <tbody>\n",
       "    <tr>\n",
       "      <th>61</th>\n",
       "      <td>62</td>\n",
       "      <td>1</td>\n",
       "      <td>1</td>\n",
       "      <td>Icard, Miss. Amelie</td>\n",
       "      <td>female</td>\n",
       "      <td>38.0</td>\n",
       "      <td>0</td>\n",
       "      <td>0</td>\n",
       "      <td>113572</td>\n",
       "      <td>80.0</td>\n",
       "      <td>B28</td>\n",
       "      <td>NaN</td>\n",
       "    </tr>\n",
       "    <tr>\n",
       "      <th>829</th>\n",
       "      <td>830</td>\n",
       "      <td>1</td>\n",
       "      <td>1</td>\n",
       "      <td>Stone, Mrs. George Nelson (Martha Evelyn)</td>\n",
       "      <td>female</td>\n",
       "      <td>62.0</td>\n",
       "      <td>0</td>\n",
       "      <td>0</td>\n",
       "      <td>113572</td>\n",
       "      <td>80.0</td>\n",
       "      <td>B28</td>\n",
       "      <td>NaN</td>\n",
       "    </tr>\n",
       "  </tbody>\n",
       "</table>\n",
       "</div>"
      ],
      "text/plain": [
       "     PassengerId  Survived  Pclass                                       Name  \\\n",
       "61            62         1       1                        Icard, Miss. Amelie   \n",
       "829          830         1       1  Stone, Mrs. George Nelson (Martha Evelyn)   \n",
       "\n",
       "        Sex   Age  SibSp  Parch  Ticket  Fare Cabin Embarked  \n",
       "61   female  38.0      0      0  113572  80.0   B28      NaN  \n",
       "829  female  62.0      0      0  113572  80.0   B28      NaN  "
      ]
     },
     "execution_count": 22,
     "metadata": {},
     "output_type": "execute_result"
    }
   ],
   "source": [
    "# Embarked가 결측값인 것을 보자\n",
    "train_df[ train_df['Embarked'].isna() ]"
   ]
  },
  {
   "cell_type": "code",
   "execution_count": 26,
   "id": "df8a6072-49ed-4d57-8b07-dbc93e36e958",
   "metadata": {},
   "outputs": [],
   "source": [
    "# 최종적으로 결측값을 'C'라고 하기호 함!\n",
    "# .loc[인덱스 조건, 컬럼]\n",
    "\n",
    "train_df.loc[ train_df['Embarked'].isna(), 'Embarked' ] = 'C'"
   ]
  },
  {
   "cell_type": "markdown",
   "id": "7080a355-c27f-45ca-95d6-5ba0fa15daf2",
   "metadata": {},
   "source": [
    "### Age 결측값 채우기"
   ]
  },
  {
   "cell_type": "code",
   "execution_count": 28,
   "id": "28418dd5-f49e-4a0d-81ff-ac41664deaef",
   "metadata": {},
   "outputs": [
    {
     "data": {
      "image/png": "[encoded data removed]",
      "text/plain": [
       "<Figure size 400x200 with 1 Axes>"
      ]
     },
     "metadata": {},
     "output_type": "display_data"
    }
   ],
   "source": [
    "plt.figure(figsize=(4, 2))\n",
    "sns.histplot(data=train_df, x='Age')\n",
    "plt.show()"
   ]
  },
  {
   "cell_type": "code",
   "execution_count": 34,
   "id": "69522669-2913-4384-9197-0fbc6066d8c8",
   "metadata": {},
   "outputs": [
    {
     "data": {
      "image/png": "[encoded data removed]",
      "text/plain": [
       "<Figure size 400x200 with 1 Axes>"
      ]
     },
     "metadata": {},
     "output_type": "display_data"
    }
   ],
   "source": [
    "plt.figure(figsize=(4, 2))\n",
    "sns.boxplot(data=train_df, x='Pclass', y='Age', hue='Sex')\n",
    "plt.legend(loc=(-1, 0))\n",
    "plt.show()"
   ]
  },
  {
   "cell_type": "code",
   "execution_count": 41,
   "id": "8c2ec57e-cc8f-4fca-a92a-db65cfd0429c",
   "metadata": {},
   "outputs": [],
   "source": [
    "temp = train_df.groupby( ['Pclass', 'Sex'] )['Age'].mean()\n",
    "\n",
    "for ix in temp.index:\n",
    "    cond1 = train_df['Age'].isna()\n",
    "    cond2 = train_df['Pclass'] == ix[0]\n",
    "    cond3 = train_df['Sex'] == ix[1]\n",
    "    train_df.loc[ cond1 & cond2 & cond3, 'Age' ] = temp[ix]\n",
    "\n",
    "    cond1 = test_df['Age'].isna()\n",
    "    cond2 = test_df['Pclass'] == ix[0]\n",
    "    cond3 = test_df['Sex'] == ix[1]\n",
    "    test_df.loc[ cond1 & cond2 & cond3, 'Age' ] = temp[ix]"
   ]
  },
  {
   "cell_type": "code",
   "execution_count": 43,
   "id": "531db3f7-b685-4559-b314-b4722df03d87",
   "metadata": {},
   "outputs": [
    {
     "data": {
      "text/plain": [
       "PassengerId      0\n",
       "Pclass           0\n",
       "Name             0\n",
       "Sex              0\n",
       "Age              0\n",
       "SibSp            0\n",
       "Parch            0\n",
       "Ticket           0\n",
       "Fare             1\n",
       "Cabin          327\n",
       "Embarked         0\n",
       "dtype: int64"
      ]
     },
     "execution_count": 43,
     "metadata": {},
     "output_type": "execute_result"
    }
   ],
   "source": [
    "test_df.isna().sum()"
   ]
  },
  {
   "cell_type": "markdown",
   "id": "7dee013f-0a2b-4106-9fbc-0d75c4965c83",
   "metadata": {},
   "source": [
    "### Fare 결측값 채우기"
   ]
  },
  {
   "cell_type": "code",
   "execution_count": 44,
   "id": "3a2e0456-a0ae-4936-b35f-93b83ed736ef",
   "metadata": {},
   "outputs": [
    {
     "data": {
      "image/png": "[encoded data removed]",
      "text/plain": [
       "<Figure size 400x200 with 1 Axes>"
      ]
     },
     "metadata": {},
     "output_type": "display_data"
    }
   ],
   "source": [
    "plt.figure(figsize=(4, 2))\n",
    "sns.histplot(data=train_df, x='Fare')\n",
    "plt.show()"
   ]
  },
  {
   "cell_type": "code",
   "execution_count": 45,
   "id": "43cac86b-d760-4946-ac71-9c83e5584e98",
   "metadata": {},
   "outputs": [
    {
     "data": {
      "image/png": "[encoded data removed]",
      "text/plain": [
       "<Figure size 400x200 with 1 Axes>"
      ]
     },
     "metadata": {},
     "output_type": "display_data"
    }
   ],
   "source": [
    "plt.figure(figsize=(4, 2))\n",
    "sns.boxplot(data=train_df, x='Pclass', y='Fare', hue='Sex')\n",
    "plt.legend(loc=(-1, 0))\n",
    "plt.show()"
   ]
  },
  {
   "cell_type": "code",
   "execution_count": 47,
   "id": "0df74c63-a782-45a2-b5c1-28d94145d903",
   "metadata": {},
   "outputs": [
    {
     "data": {
      "text/plain": [
       "Pclass  Sex   \n",
       "1       female    82.66455\n",
       "        male      41.26250\n",
       "2       female    22.00000\n",
       "        male      13.00000\n",
       "3       female    12.47500\n",
       "        male       7.92500\n",
       "Name: Fare, dtype: float64"
      ]
     },
     "execution_count": 47,
     "metadata": {},
     "output_type": "execute_result"
    }
   ],
   "source": [
    "train_df.groupby(['Pclass', 'Sex'])['Fare'].median()"
   ]
  },
  {
   "cell_type": "code",
   "execution_count": 48,
   "id": "a1ea7afb-3adb-4d59-bbf6-58116e746991",
   "metadata": {},
   "outputs": [
    {
     "data": {
      "text/html": [
       "<div>\n",
       "<style scoped>\n",
       "    .dataframe tbody tr th:only-of-type {\n",
       "        vertical-align: middle;\n",
       "    }\n",
       "\n",
       "    .dataframe tbody tr th {\n",
       "        vertical-align: top;\n",
       "    }\n",
       "\n",
       "    .dataframe thead th {\n",
       "        text-align: right;\n",
       "    }\n",
       "</style>\n",
       "<table border=\"1\" class=\"dataframe\">\n",
       "  <thead>\n",
       "    <tr style=\"text-align: right;\">\n",
       "      <th></th>\n",
       "      <th>PassengerId</th>\n",
       "      <th>Pclass</th>\n",
       "      <th>Name</th>\n",
       "      <th>Sex</th>\n",
       "      <th>Age</th>\n",
       "      <th>SibSp</th>\n",
       "      <th>Parch</th>\n",
       "      <th>Ticket</th>\n",
       "      <th>Fare</th>\n",
       "      <th>Cabin</th>\n",
       "      <th>Embarked</th>\n",
       "    </tr>\n",
       "  </thead>\n",
       "  <tbody>\n",
       "    <tr>\n",
       "      <th>152</th>\n",
       "      <td>1044</td>\n",
       "      <td>3</td>\n",
       "      <td>Storey, Mr. Thomas</td>\n",
       "      <td>male</td>\n",
       "      <td>60.5</td>\n",
       "      <td>0</td>\n",
       "      <td>0</td>\n",
       "      <td>3701</td>\n",
       "      <td>NaN</td>\n",
       "      <td>NaN</td>\n",
       "      <td>S</td>\n",
       "    </tr>\n",
       "  </tbody>\n",
       "</table>\n",
       "</div>"
      ],
      "text/plain": [
       "     PassengerId  Pclass                Name   Sex   Age  SibSp  Parch Ticket  \\\n",
       "152         1044       3  Storey, Mr. Thomas  male  60.5      0      0   3701   \n",
       "\n",
       "     Fare Cabin Embarked  \n",
       "152   NaN   NaN        S  "
      ]
     },
     "execution_count": 48,
     "metadata": {},
     "output_type": "execute_result"
    }
   ],
   "source": [
    "test_df[test_df['Fare'].isna()]"
   ]
  },
  {
   "cell_type": "code",
   "execution_count": 50,
   "id": "5b6cc44d-5206-49e6-bdd7-e617ce1023b9",
   "metadata": {},
   "outputs": [],
   "source": [
    "test_df.loc[ test_df['Fare'].isna() ,  'Fare' ] = 7.925"
   ]
  },
  {
   "cell_type": "markdown",
   "id": "b3648411-fd3a-4851-be6a-f918434e2669",
   "metadata": {},
   "source": [
    "## Feature Engineering\n",
    "- 특성값들을 컴퓨터가 이해하기 쉽게 가공\n",
    "- 데이터가 아닌것들에서 데이터를 추출\n",
    "    - 'Name','SibSp',  'Parch', 'Ticket \n",
    "- 숫자 데이터 => 스케일링\n",
    "    -  'Age', 'Fare'\n",
    "- 카테고리 => 인코딩\n",
    "    -  'Pclass', 'Sex', 'Embarked'"
   ]
  },
  {
   "cell_type": "markdown",
   "id": "8c561ec9-ab66-4683-b34f-fca4dd14ec9e",
   "metadata": {},
   "source": [
    "### 데이터가 아닌 것들에서 데이터를 추출\n",
    "- 'Name', 'SibSp', 'Parch', 'Ticket'"
   ]
  },
  {
   "cell_type": "code",
   "execution_count": 62,
   "id": "b531e238-f957-446d-8543-fc91353426b9",
   "metadata": {},
   "outputs": [],
   "source": [
    "# Name => 겹치는 정보... => 버림\n",
    "\n",
    "def get_name(x):\n",
    "    return x.split(', ')[1].split('.')[0]\n",
    "\n",
    "train_df['Name2'] = train_df['Name'].apply(get_name)"
   ]
  },
  {
   "cell_type": "code",
   "execution_count": 64,
   "id": "0ab69df5-62b0-45d6-825c-47614a4af00e",
   "metadata": {},
   "outputs": [
    {
     "data": {
      "text/plain": [
       "array(['Mr', 'Mrs', 'Miss', 'Master', 'Don', 'Rev', 'Dr', 'Mme', 'Ms',\n",
       "       'Major', 'Lady', 'Sir', 'Mlle', 'Col', 'Capt', 'the Countess',\n",
       "       'Jonkheer'], dtype=object)"
      ]
     },
     "execution_count": 64,
     "metadata": {},
     "output_type": "execute_result"
    }
   ],
   "source": [
    "train_df['Name2'].unique()"
   ]
  },
  {
   "cell_type": "code",
   "execution_count": null,
   "id": "c1556f3f-2ab6-468c-840c-cbe24f2237d2",
   "metadata": {},
   "outputs": [],
   "source": [
    "# Ticket => 추출할 거 없으니 버림\n",
    "\n",
    "train_df['Ticket']"
   ]
  },
  {
   "cell_type": "code",
   "execution_count": 67,
   "id": "b05eda8c-28f2-42b3-ab44-9349318d2ddb",
   "metadata": {},
   "outputs": [],
   "source": [
    "# 'SibSp', 'Parch' => 'Family'는 연속된 숫자로\n",
    "\n",
    "train_df['Family'] = train_df['SibSp'] + train_df['Parch']"
   ]
  },
  {
   "cell_type": "code",
   "execution_count": 68,
   "id": "ac781bf8-e1cb-45db-9143-36174c973602",
   "metadata": {},
   "outputs": [
    {
     "data": {
      "text/plain": [
       "array([ 1,  0,  4,  2,  6,  5,  3,  7, 10], dtype=int64)"
      ]
     },
     "execution_count": 68,
     "metadata": {},
     "output_type": "execute_result"
    }
   ],
   "source": [
    "train_df['Family'].unique()"
   ]
  },
  {
   "cell_type": "code",
   "execution_count": 70,
   "id": "af0835a1-663e-47f9-9376-f7db74f80a41",
   "metadata": {},
   "outputs": [
    {
     "data": {
      "image/png": "[encoded data removed]",
      "text/plain": [
       "<Figure size 400x200 with 1 Axes>"
      ]
     },
     "metadata": {},
     "output_type": "display_data"
    }
   ],
   "source": [
    "plt.figure(figsize=(4, 2))\n",
    "sns.countplot(data=train_df, x='Family', hue='Survived')\n",
    "plt.show()"
   ]
  },
  {
   "cell_type": "markdown",
   "id": "b13936c0-4cc1-4020-8a51-61683530fcfd",
   "metadata": {},
   "source": [
    "### 스케일링\n",
    "- 숫자 데이터의 크기를 맞춰줌\n",
    "- standard scailing\n",
    "- min-max scailing\n",
    "- 일관성과 편의성을 위해서 직접 계산하는 것이 아니라 사이킷런 이용\n",
    "- 아웃라이어나 심하게 스큐된 데이터는 처리를 먼저 해야 함 => log 변환"
   ]
  },
  {
   "cell_type": "code",
   "execution_count": 74,
   "id": "a9ed2054-aa5a-4828-9144-32188a67f128",
   "metadata": {},
   "outputs": [],
   "source": [
    "train_df['Fare_log'] = np.log1p( train_df['Fare'] )\n",
    "test_df['Fare_log'] = np.log1p( test_df['Fare'] )"
   ]
  },
  {
   "cell_type": "code",
   "execution_count": 81,
   "id": "b7f06a72-de4f-404d-874c-0d741909e2ee",
   "metadata": {},
   "outputs": [],
   "source": [
    "from sklearn.preprocessing import StandardScaler\n",
    "# 1. 스케일러를 생성\n",
    "sc = StandardScaler()\n",
    "# 2. fit\n",
    "sc.fit( train_df[ ['Age', 'Fare_log'] ]  )\n",
    "# 3. 실제 변형(transform)\n",
    "X = pd.DataFrame( sc.transform( train_df[ ['Age', 'Fare_log'] ]  ), \n",
    "                 columns=['Age', 'Fare_log'] )\n",
    "test_X = pd.DataFrame( sc.transform( test_df[ ['Age', 'Fare_log'] ]  ), \n",
    "                 columns=['Age', 'Fare_log'] )"
   ]
  },
  {
   "cell_type": "markdown",
   "id": "d855e9f5-5793-48b9-9486-a9b8f7eb4e2e",
   "metadata": {},
   "source": [
    "### 인코딩\n",
    "- 원핫인코딩"
   ]
  },
  {
   "cell_type": "code",
   "execution_count": 95,
   "id": "6e8a3c05-9838-4223-8a9c-c3b8706e23ac",
   "metadata": {},
   "outputs": [],
   "source": [
    "from sklearn.preprocessing import OneHotEncoder\n",
    "\n",
    "# 1. 모델 생성\n",
    "one_hot = OneHotEncoder(drop='first', sparse_output=False) # drop='first' : \n",
    "# 2. fit\n",
    "one_hot.fit( train_df[ ['Pclass', 'Sex', 'Embarked'] ]  )\n",
    "# 3. transform\n",
    "X[ one_hot.get_feature_names_out() ] = one_hot.transform( train_df[ ['Pclass', 'Sex', 'Embarked'] ]  )\n",
    "test_X[one_hot.get_feature_names_out()] = one_hot.transform(test_df[ ['Pclass', 'Sex', 'Embarked'] ]  )"
   ]
  },
  {
   "cell_type": "markdown",
   "id": "d31043eb-50d2-4065-a17d-22c80b809f11",
   "metadata": {},
   "source": [
    "## 여러가지 모델들\n",
    "### KNN\n",
    "- 하이퍼 파라미터 세팅\n",
    "- 생성\n",
    "- 훈련(fit)\n",
    "- 검증(score), 예측(predict)"
   ]
  },
  {
   "cell_type": "code",
   "execution_count": 97,
   "id": "3decdf93-24c7-4df7-91ee-6a642909c184",
   "metadata": {},
   "outputs": [],
   "source": [
    "from sklearn.model_selection import train_test_split, cross_val_score\n",
    "from sklearn.neighbors import KNeighborsClassifier"
   ]
  },
  {
   "cell_type": "code",
   "execution_count": 98,
   "id": "be0892bd-1e79-49d0-9799-dd21042ce0d7",
   "metadata": {},
   "outputs": [],
   "source": [
    "y = train_df['Survived']\n",
    "train_x, valid_x, train_y, valid_y = train_test_split( X, y,\n",
    "                                                      test_size=0.3, \n",
    "                                                      random_state=16,\n",
    "                                                      stratify=y )"
   ]
  },
  {
   "cell_type": "code",
   "execution_count": 100,
   "id": "324cafe2-7147-4eef-a10b-dc1544154497",
   "metadata": {},
   "outputs": [],
   "source": [
    "# KNN 하이퍼 파라미터 찾기\n",
    "# => 7로 찾음\n",
    "score_list = []\n",
    "for k in range(1, 51):\n",
    "    knn = KNeighborsClassifier( n_neighbors=k )\n",
    "    score = cross_val_score(knn, train_x, train_y, cv=5).mean()\n",
    "    score_list.append(score)"
   ]
  },
  {
   "cell_type": "code",
   "execution_count": 102,
   "id": "b1898be8-976a-4789-95f3-4d4120e0c207",
   "metadata": {},
   "outputs": [
    {
     "data": {
      "image/png": "[encoded data removed]",
      "text/plain": [
       "<Figure size 400x200 with 1 Axes>"
      ]
     },
     "metadata": {},
     "output_type": "display_data"
    }
   ],
   "source": [
    "plt.figure(figsize=(4, 2))\n",
    "plt.plot(range(1, 51), score_list)\n",
    "plt.show()"
   ]
  },
  {
   "cell_type": "code",
   "execution_count": 106,
   "id": "66b50216-a0e2-4add-b1bf-12b2adc71371",
   "metadata": {},
   "outputs": [
    {
     "data": {
      "text/plain": [
       "0.7873134328358209"
      ]
     },
     "execution_count": 106,
     "metadata": {},
     "output_type": "execute_result"
    }
   ],
   "source": [
    "knn = KNeighborsClassifier(n_neighbors=7)\n",
    "knn.fit(train_x, train_y)\n",
    "knn.score(valid_x, valid_y)"
   ]
  },
  {
   "cell_type": "code",
   "execution_count": null,
   "id": "bf832643-b723-4fc0-aa41-e1e9165a0800",
   "metadata": {},
   "outputs": [],
   "source": [
    "# 제출\n",
    "knn_result = test_df[['PassengerId']].copy()\n",
    "knn_result['Survived'] = knn.predict(test_X)\n",
    "knn_result.to_csv( r'파일경로\\파일명.csv', index=False )"
   ]
  },
  {
   "cell_type": "markdown",
   "id": "14d3c9bc-3e74-42a2-a105-c24900b778ae",
   "metadata": {},
   "source": [
    "### Tree\n",
    "- 데이터(target)가 가장 순수해 지는 방향으로 feature 선택해서 데이터를 2개로 나눔\n",
    "- 위를 반복\n",
    "- 설명력이 좋음!"
   ]
  },
  {
   "cell_type": "code",
   "execution_count": 130,
   "id": "ee845775-7ccc-45f7-8858-49801abebf83",
   "metadata": {},
   "outputs": [],
   "source": [
    "from sklearn.tree import DecisionTreeClassifier, plot_tree\n",
    "from sklearn.model_selection import GridSearchCV"
   ]
  },
  {
   "cell_type": "code",
   "execution_count": 118,
   "id": "b9e6c1d0-fdbd-4ea5-9e00-b5c8f26aa262",
   "metadata": {},
   "outputs": [
    {
     "data": {
      "text/html": [
       "<style>#sk-container-id-7 {color: black;background-color: white;}#sk-container-id-7 pre{padding: 0;}#sk-container-id-7 div.sk-toggleable {background-color: white;}#sk-container-id-7 label.sk-toggleable__label {cursor: pointer;display: block;width: 100%;margin-bottom: 0;padding: 0.3em;box-sizing: border-box;text-align: center;}#sk-container-id-7 label.sk-toggleable__label-arrow:before {content: \"▸\";float: left;margin-right: 0.25em;color: #696969;}#sk-container-id-7 label.sk-toggleable__label-arrow:hover:before {color: black;}#sk-container-id-7 div.sk-estimator:hover label.sk-toggleable__label-arrow:before {color: black;}#sk-container-id-7 div.sk-toggleable__content {max-height: 0;max-width: 0;overflow: hidden;text-align: left;background-color: #f0f8ff;}#sk-container-id-7 div.sk-toggleable__content pre {margin: 0.2em;color: black;border-radius: 0.25em;background-color: #f0f8ff;}#sk-container-id-7 input.sk-toggleable__control:checked~div.sk-toggleable__content {max-height: 200px;max-width: 100%;overflow: auto;}#sk-container-id-7 input.sk-toggleable__control:checked~label.sk-toggleable__label-arrow:before {content: \"▾\";}#sk-container-id-7 div.sk-estimator input.sk-toggleable__control:checked~label.sk-toggleable__label {background-color: #d4ebff;}#sk-container-id-7 div.sk-label input.sk-toggleable__control:checked~label.sk-toggleable__label {background-color: #d4ebff;}#sk-container-id-7 input.sk-hidden--visually {border: 0;clip: rect(1px 1px 1px 1px);clip: rect(1px, 1px, 1px, 1px);height: 1px;margin: -1px;overflow: hidden;padding: 0;position: absolute;width: 1px;}#sk-container-id-7 div.sk-estimator {font-family: monospace;background-color: #f0f8ff;border: 1px dotted black;border-radius: 0.25em;box-sizing: border-box;margin-bottom: 0.5em;}#sk-container-id-7 div.sk-estimator:hover {background-color: #d4ebff;}#sk-container-id-7 div.sk-parallel-item::after {content: \"\";width: 100%;border-bottom: 1px solid gray;flex-grow: 1;}#sk-container-id-7 div.sk-label:hover label.sk-toggleable__label {background-color: #d4ebff;}#sk-container-id-7 div.sk-serial::before {content: \"\";position: absolute;border-left: 1px solid gray;box-sizing: border-box;top: 0;bottom: 0;left: 50%;z-index: 0;}#sk-container-id-7 div.sk-serial {display: flex;flex-direction: column;align-items: center;background-color: white;padding-right: 0.2em;padding-left: 0.2em;position: relative;}#sk-container-id-7 div.sk-item {position: relative;z-index: 1;}#sk-container-id-7 div.sk-parallel {display: flex;align-items: stretch;justify-content: center;background-color: white;position: relative;}#sk-container-id-7 div.sk-item::before, #sk-container-id-7 div.sk-parallel-item::before {content: \"\";position: absolute;border-left: 1px solid gray;box-sizing: border-box;top: 0;bottom: 0;left: 50%;z-index: -1;}#sk-container-id-7 div.sk-parallel-item {display: flex;flex-direction: column;z-index: 1;position: relative;background-color: white;}#sk-container-id-7 div.sk-parallel-item:first-child::after {align-self: flex-end;width: 50%;}#sk-container-id-7 div.sk-parallel-item:last-child::after {align-self: flex-start;width: 50%;}#sk-container-id-7 div.sk-parallel-item:only-child::after {width: 0;}#sk-container-id-7 div.sk-dashed-wrapped {border: 1px dashed gray;margin: 0 0.4em 0.5em 0.4em;box-sizing: border-box;padding-bottom: 0.4em;background-color: white;}#sk-container-id-7 div.sk-label label {font-family: monospace;font-weight: bold;display: inline-block;line-height: 1.2em;}#sk-container-id-7 div.sk-label-container {text-align: center;}#sk-container-id-7 div.sk-container {/* jupyter's `normalize.less` sets `[hidden] { display: none; }` but bootstrap.min.css set `[hidden] { display: none !important; }` so we also need the `!important` here to be able to override the default hidden behavior on the sphinx rendered scikit-learn.org. See: https://github.com/scikit-learn/scikit-learn/issues/21755 */display: inline-block !important;position: relative;}#sk-container-id-7 div.sk-text-repr-fallback {display: none;}</style><div id=\"sk-container-id-7\" class=\"sk-top-container\"><div class=\"sk-text-repr-fallback\"><pre>GridSearchCV(cv=5, estimator=DecisionTreeClassifier(),\n",
       "             param_grid={&#x27;max_depth&#x27;: [3, 5, 10, 15, 20],\n",
       "                         &#x27;min_samples_leaf&#x27;: [1, 10, 20, 30]})</pre><b>In a Jupyter environment, please rerun this cell to show the HTML representation or trust the notebook. <br />On GitHub, the HTML representation is unable to render, please try loading this page with nbviewer.org.</b></div><div class=\"sk-container\" hidden><div class=\"sk-item sk-dashed-wrapped\"><div class=\"sk-label-container\"><div class=\"sk-label sk-toggleable\"><input class=\"sk-toggleable__control sk-hidden--visually\" id=\"sk-estimator-id-9\" type=\"checkbox\" ><label for=\"sk-estimator-id-9\" class=\"sk-toggleable__label sk-toggleable__label-arrow\">GridSearchCV</label><div class=\"sk-toggleable__content\"><pre>GridSearchCV(cv=5, estimator=DecisionTreeClassifier(),\n",
       "             param_grid={&#x27;max_depth&#x27;: [3, 5, 10, 15, 20],\n",
       "                         &#x27;min_samples_leaf&#x27;: [1, 10, 20, 30]})</pre></div></div></div><div class=\"sk-parallel\"><div class=\"sk-parallel-item\"><div class=\"sk-item\"><div class=\"sk-label-container\"><div class=\"sk-label sk-toggleable\"><input class=\"sk-toggleable__control sk-hidden--visually\" id=\"sk-estimator-id-10\" type=\"checkbox\" ><label for=\"sk-estimator-id-10\" class=\"sk-toggleable__label sk-toggleable__label-arrow\">estimator: DecisionTreeClassifier</label><div class=\"sk-toggleable__content\"><pre>DecisionTreeClassifier()</pre></div></div></div><div class=\"sk-serial\"><div class=\"sk-item\"><div class=\"sk-estimator sk-toggleable\"><input class=\"sk-toggleable__control sk-hidden--visually\" id=\"sk-estimator-id-11\" type=\"checkbox\" ><label for=\"sk-estimator-id-11\" class=\"sk-toggleable__label sk-toggleable__label-arrow\">DecisionTreeClassifier</label><div class=\"sk-toggleable__content\"><pre>DecisionTreeClassifier()</pre></div></div></div></div></div></div></div></div></div></div>"
      ],
      "text/plain": [
       "GridSearchCV(cv=5, estimator=DecisionTreeClassifier(),\n",
       "             param_grid={'max_depth': [3, 5, 10, 15, 20],\n",
       "                         'min_samples_leaf': [1, 10, 20, 30]})"
      ]
     },
     "execution_count": 118,
     "metadata": {},
     "output_type": "execute_result"
    }
   ],
   "source": [
    "# 하이퍼 파라미터\n",
    "params = {'max_depth' : [3, 5, 10, 15, 20],\n",
    "          'min_samples_leaf': [1, 10, 20, 30]}\n",
    "\n",
    "grid_tree = GridSearchCV( DecisionTreeClassifier(), params, cv=5  )\n",
    "grid_tree.fit( train_x, train_y )"
   ]
  },
  {
   "cell_type": "code",
   "execution_count": null,
   "id": "6cacb566-657f-47bc-a473-14c52f6a2bee",
   "metadata": {},
   "outputs": [],
   "source": [
    "cv_result = pd.DataFrame( grid_tree.cv_results_['params'])\n",
    "cv_result['score'] = grid_tree.cv_results_['mean_test_score']\n",
    "pd.pivot_table( cv_result, columns='max_depth', index='min_samples_leaf' )"
   ]
  },
  {
   "cell_type": "code",
   "execution_count": 128,
   "id": "dd58ac76-9db5-4d78-9f25-bfd0097af689",
   "metadata": {},
   "outputs": [
    {
     "data": {
      "text/plain": [
       "0.7985074626865671"
      ]
     },
     "execution_count": 128,
     "metadata": {},
     "output_type": "execute_result"
    }
   ],
   "source": [
    "# 검증\n",
    "grid_tree.score( valid_x, valid_y )"
   ]
  },
  {
   "cell_type": "code",
   "execution_count": null,
   "id": "928b5cdb-0922-4b09-9195-fc1099cc1d29",
   "metadata": {},
   "outputs": [],
   "source": [
    "# 예측 => csv로 제출\n",
    "grid_tree.predict( test_X  )"
   ]
  },
  {
   "cell_type": "code",
   "execution_count": null,
   "id": "d8c084c7-5f89-42f0-89f0-59f37f70111f",
   "metadata": {},
   "outputs": [],
   "source": [
    "plt.figure(dpi=400)\n",
    "plot_tree( grid_tree.best_estimator_, feature_names=train_x.columns )\n",
    "plt.show()"
   ]
  },
  {
   "cell_type": "code",
   "execution_count": 136,
   "id": "1ead8579-c16f-4e9e-b7e0-a0c25ae37f15",
   "metadata": {},
   "outputs": [
    {
     "data": {
      "text/plain": [
       "array([0.0698965 , 0.06017317, 0.        , 0.16151896, 0.66395523,\n",
       "       0.        , 0.04445613])"
      ]
     },
     "execution_count": 136,
     "metadata": {},
     "output_type": "execute_result"
    }
   ],
   "source": [
    "grid_tree.best_estimator_.feature_importances_"
   ]
  },
  {
   "cell_type": "code",
   "execution_count": 137,
   "id": "e8cf0d8b-78b3-41b2-a523-5b2052825f0b",
   "metadata": {},
   "outputs": [
    {
     "data": {
      "text/plain": [
       "array(['Age', 'Fare_log', 'Pclass_2', 'Pclass_3', 'Sex_male',\n",
       "       'Embarked_Q', 'Embarked_S'], dtype=object)"
      ]
     },
     "execution_count": 137,
     "metadata": {},
     "output_type": "execute_result"
    }
   ],
   "source": [
    "grid_tree.best_estimator_.feature_names_in_"
   ]
  },
  {
   "cell_type": "markdown",
   "id": "b78ff0c2-c4a6-4afb-816d-615aae9077b8",
   "metadata": {},
   "source": [
    "### Random Forest\n",
    "- 트리 문제점을 해결\n",
    "1. 오버피팅       => 약한트리\n",
    "2. 다양성 떨어짐  => feature 랜덤하게 선택, 각각의 나무에 조금씩 다른 데이터로 훈련 "
   ]
  },
  {
   "cell_type": "code",
   "execution_count": 138,
   "id": "c961a432-ba53-4f1a-9035-038555f2ac26",
   "metadata": {},
   "outputs": [],
   "source": [
    "from sklearn.ensemble import RandomForestClassifier"
   ]
  },
  {
   "cell_type": "code",
   "execution_count": null,
   "id": "a402cfbf-0cf4-46ad-ba26-bf56c16c152d",
   "metadata": {},
   "outputs": [],
   "source": [
    "params = {'max_depth':[3, 10, 15], 'min_samples_leaf':[1, 10, 20, 30]}\n",
    "\n",
    "grid_rf = GridSearchCV( RandomForestClassifier(random_state=16), params, cv=5 )\n",
    "grid_rf.fit(train_x, train_y)"
   ]
  },
  {
   "cell_type": "code",
   "execution_count": 143,
   "id": "bec9165a-39ef-40eb-bb97-17fcd94d3f0a",
   "metadata": {},
   "outputs": [
    {
     "data": {
      "text/html": [
       "<div>\n",
       "<style scoped>\n",
       "    .dataframe tbody tr th:only-of-type {\n",
       "        vertical-align: middle;\n",
       "    }\n",
       "\n",
       "    .dataframe tbody tr th {\n",
       "        vertical-align: top;\n",
       "    }\n",
       "\n",
       "    .dataframe thead tr th {\n",
       "        text-align: left;\n",
       "    }\n",
       "\n",
       "    .dataframe thead tr:last-of-type th {\n",
       "        text-align: right;\n",
       "    }\n",
       "</style>\n",
       "<table border=\"1\" class=\"dataframe\">\n",
       "  <thead>\n",
       "    <tr>\n",
       "      <th></th>\n",
       "      <th colspan=\"3\" halign=\"left\">score</th>\n",
       "    </tr>\n",
       "    <tr>\n",
       "      <th>max_depth</th>\n",
       "      <th>3</th>\n",
       "      <th>10</th>\n",
       "      <th>15</th>\n",
       "    </tr>\n",
       "    <tr>\n",
       "      <th>min_samples_leaf</th>\n",
       "      <th></th>\n",
       "      <th></th>\n",
       "      <th></th>\n",
       "    </tr>\n",
       "  </thead>\n",
       "  <tbody>\n",
       "    <tr>\n",
       "      <th>1</th>\n",
       "      <td>0.810542</td>\n",
       "      <td>0.808942</td>\n",
       "      <td>0.797677</td>\n",
       "    </tr>\n",
       "    <tr>\n",
       "      <th>10</th>\n",
       "      <td>0.804129</td>\n",
       "      <td>0.813742</td>\n",
       "      <td>0.813742</td>\n",
       "    </tr>\n",
       "    <tr>\n",
       "      <th>20</th>\n",
       "      <td>0.789716</td>\n",
       "      <td>0.799290</td>\n",
       "      <td>0.799290</td>\n",
       "    </tr>\n",
       "    <tr>\n",
       "      <th>30</th>\n",
       "      <td>0.780142</td>\n",
       "      <td>0.775316</td>\n",
       "      <td>0.775316</td>\n",
       "    </tr>\n",
       "  </tbody>\n",
       "</table>\n",
       "</div>"
      ],
      "text/plain": [
       "                     score                    \n",
       "max_depth               3         10        15\n",
       "min_samples_leaf                              \n",
       "1                 0.810542  0.808942  0.797677\n",
       "10                0.804129  0.813742  0.813742\n",
       "20                0.789716  0.799290  0.799290\n",
       "30                0.780142  0.775316  0.775316"
      ]
     },
     "execution_count": 143,
     "metadata": {},
     "output_type": "execute_result"
    }
   ],
   "source": [
    "cv_result = pd.DataFrame( grid_rf.cv_results_['params'])\n",
    "cv_result['score'] = grid_rf.cv_results_['mean_test_score']\n",
    "pd.pivot_table( cv_result, columns='max_depth', index='min_samples_leaf' )"
   ]
  },
  {
   "cell_type": "code",
   "execution_count": 144,
   "id": "db5fe0a8-cdbc-4771-b4c1-03956e291700",
   "metadata": {},
   "outputs": [
    {
     "data": {
      "text/plain": [
       "0.7985074626865671"
      ]
     },
     "execution_count": 144,
     "metadata": {},
     "output_type": "execute_result"
    }
   ],
   "source": [
    "grid_rf.score(valid_x,valid_y)"
   ]
  },
  {
   "cell_type": "code",
   "execution_count": 151,
   "id": "d091cb8f-0232-4ebd-83cc-24eec4667092",
   "metadata": {
    "scrolled": true
   },
   "outputs": [
    {
     "data": {
      "text/html": [
       "<div>\n",
       "<style scoped>\n",
       "    .dataframe tbody tr th:only-of-type {\n",
       "        vertical-align: middle;\n",
       "    }\n",
       "\n",
       "    .dataframe tbody tr th {\n",
       "        vertical-align: top;\n",
       "    }\n",
       "\n",
       "    .dataframe thead th {\n",
       "        text-align: right;\n",
       "    }\n",
       "</style>\n",
       "<table border=\"1\" class=\"dataframe\">\n",
       "  <thead>\n",
       "    <tr style=\"text-align: right;\">\n",
       "      <th></th>\n",
       "      <th>PassengerId</th>\n",
       "      <th>Survived</th>\n",
       "    </tr>\n",
       "  </thead>\n",
       "  <tbody>\n",
       "    <tr>\n",
       "      <th>0</th>\n",
       "      <td>892</td>\n",
       "      <td>0</td>\n",
       "    </tr>\n",
       "    <tr>\n",
       "      <th>1</th>\n",
       "      <td>893</td>\n",
       "      <td>0</td>\n",
       "    </tr>\n",
       "    <tr>\n",
       "      <th>2</th>\n",
       "      <td>894</td>\n",
       "      <td>0</td>\n",
       "    </tr>\n",
       "    <tr>\n",
       "      <th>3</th>\n",
       "      <td>895</td>\n",
       "      <td>0</td>\n",
       "    </tr>\n",
       "    <tr>\n",
       "      <th>4</th>\n",
       "      <td>896</td>\n",
       "      <td>0</td>\n",
       "    </tr>\n",
       "    <tr>\n",
       "      <th>...</th>\n",
       "      <td>...</td>\n",
       "      <td>...</td>\n",
       "    </tr>\n",
       "    <tr>\n",
       "      <th>413</th>\n",
       "      <td>1305</td>\n",
       "      <td>0</td>\n",
       "    </tr>\n",
       "    <tr>\n",
       "      <th>414</th>\n",
       "      <td>1306</td>\n",
       "      <td>1</td>\n",
       "    </tr>\n",
       "    <tr>\n",
       "      <th>415</th>\n",
       "      <td>1307</td>\n",
       "      <td>0</td>\n",
       "    </tr>\n",
       "    <tr>\n",
       "      <th>416</th>\n",
       "      <td>1308</td>\n",
       "      <td>0</td>\n",
       "    </tr>\n",
       "    <tr>\n",
       "      <th>417</th>\n",
       "      <td>1309</td>\n",
       "      <td>0</td>\n",
       "    </tr>\n",
       "  </tbody>\n",
       "</table>\n",
       "<p>418 rows × 2 columns</p>\n",
       "</div>"
      ],
      "text/plain": [
       "     PassengerId  Survived\n",
       "0            892         0\n",
       "1            893         0\n",
       "2            894         0\n",
       "3            895         0\n",
       "4            896         0\n",
       "..           ...       ...\n",
       "413         1305         0\n",
       "414         1306         1\n",
       "415         1307         0\n",
       "416         1308         0\n",
       "417         1309         0\n",
       "\n",
       "[418 rows x 2 columns]"
      ]
     },
     "execution_count": 151,
     "metadata": {},
     "output_type": "execute_result"
    }
   ],
   "source": [
    "result_rf = test_df[['PassengerId']].copy()\n",
    "result_rf['Survived'] = grid_rf.predict(test_X)\n",
    "result_rf.to_csv(r'여러분의 저장경로/파일명.csv', index=False)"
   ]
  },
  {
   "cell_type": "code",
   "execution_count": null,
   "id": "02858d0f-ab72-4ca1-8319-ca9b72b806b7",
   "metadata": {},
   "outputs": [],
   "source": [
    "- 데이터 읽어오기\n",
    "    - target, feature\n",
    "    - 연속된 숫자, 카테고리\n",
    "- EDA(탐색적 데이터 분석)\n",
    "    - 다양한 시각화\n",
    "    - 결측 데이터\n",
    "- Feaure Engineering\n",
    "    - 데이터가 아닌 것에서 데이터 추출\n",
    "    - 숫자 => 스케일링\n",
    "    - 카테고리 => 인코딩\n",
    "- 여러가지 모델\n",
    "    - 하이퍼 파라미터 => 그리드서치\n",
    "    - 검증\n",
    "    - 예측"
   ]
  },
  {
   "cell_type": "code",
   "execution_count": null,
   "id": "ae423453-632d-4865-8eab-ab2aff1e10f6",
   "metadata": {},
   "outputs": [],
   "source": []
  },
  {
   "cell_type": "code",
   "execution_count": null,
   "id": "20c65832-8127-4764-b58d-424c6031b8b6",
   "metadata": {},
   "outputs": [],
   "source": []
  },
  {
   "cell_type": "code",
   "execution_count": null,
   "id": "aefcc933-f1a6-4bdf-ae54-8bfd4ca4148f",
   "metadata": {},
   "outputs": [],
   "source": []
  },
  {
   "cell_type": "code",
   "execution_count": null,
   "id": "bbf7810e-7e84-4b4b-b64b-4a5c49e439c3",
   "metadata": {},
   "outputs": [],
   "source": []
  },
  {
   "cell_type": "code",
   "execution_count": null,
   "id": "fa1b4273-1415-498a-89e7-b364d78b1fe5",
   "metadata": {},
   "outputs": [],
   "source": []
  }
 ],
 "metadata": {
  "kernelspec": {
   "display_name": "Python 3 (ipykernel)",
   "language": "python",
   "name": "python3"
  },
  "language_info": {
   "codemirror_mode": {
    "name": "ipython",
    "version": 3
   },
   "file_extension": ".py",
   "mimetype": "text/x-python",
   "name": "python",
   "nbconvert_exporter": "python",
   "pygments_lexer": "ipython3",
   "version": "3.12.7"
  }
 },
 "nbformat": 4,
 "nbformat_minor": 5
}
